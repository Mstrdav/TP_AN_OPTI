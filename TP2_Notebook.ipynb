{
 "cells": [
  {
   "cell_type": "markdown",
   "metadata": {},
   "source": [
    "# Résolution d'équations non linéaires"
   ]
  },
  {
   "cell_type": "markdown",
   "metadata": {},
   "source": [
    "Importation des packages de calcul scientifique pour Python "
   ]
  },
  {
   "cell_type": "code",
   "execution_count": 1,
   "metadata": {
    "collapsed": true
   },
   "outputs": [
    {
     "name": "stderr",
     "output_type": "stream",
     "text": [
      "UsageError: Line magic function `%` not found.\n"
     ]
    }
   ],
   "source": [
    "import numpy as np\n",
    "import matplotlib.pyplot as plt\n",
    "% matplotlib inline"
   ]
  },
  {
   "cell_type": "markdown",
   "metadata": {},
   "source": [
    "Dans ce TP, on va mettre en oeuvre les méthodes vues en cours pour la résolution d'équations non linéaires du type\n",
    "\n",
    "$$\n",
    "F(x) = 0,\n",
    "$$\n",
    "\n",
    "où $F$ est une fonction de $\\mathbb{R}$ dans $\\mathbb{R}$. Ces méthodes sont au nombre de 3: la méthode de dichotomie, la méthode du point fixe et la méthode de Newton. Nous allons nous intéresser au cas où la fonction $F$ est donnée par\n",
    "\n",
    "$$\n",
    "F(x) = 10^{-1}x^2 - \\cos(x/2)-e^{-x/4}.\n",
    "$$"
   ]
  },
  {
   "cell_type": "markdown",
   "metadata": {},
   "source": [
    "## Graphe de $F$ et localisation grossière des racines"
   ]
  },
  {
   "cell_type": "markdown",
   "metadata": {},
   "source": [
    "Afin de se faire une idée de la fonction (et de ses racines), on se propose tout d'abord de tracer le graphe de $F$. Pour cela, on commence par implémenter la fonction $F$ qui prendra en entrée un vecteur $x$ et donnera en sortie un vecteur $y$ de même taille que $x$ et tel que, pour tout indice $k$,\n",
    "\n",
    "$$\n",
    "y_k = F(x_k).\n",
    "$$\n",
    "\n",
    "Ensuite, on trace le graphe de $F$ à l'aide de la fonction `plt.plot` sur l'intervalle $[-10,10]$ avec un millier de points.\n",
    "\n",
    "> **À faire **: Implémenter la fonction $F$ et tracer son graphe. Donner un intervalle de longueur $1$ autour de chaque racine $F$ dans l'intervalle $[-10,10]$."
   ]
  },
  {
   "cell_type": "code",
   "execution_count": 2,
   "metadata": {
    "collapsed": true
   },
   "outputs": [],
   "source": [
    "def F(x):\n",
    "    return 0.1*np.power(x,2)-np.cos(x/2)-np.exp(-x/4)"
   ]
  },
  {
   "cell_type": "markdown",
   "metadata": {},
   "source": [
    "> **Réponse **:..."
   ]
  },
  {
   "cell_type": "markdown",
   "metadata": {},
   "source": [
    "## Méthode de dichotomie"
   ]
  },
  {
   "cell_type": "markdown",
   "metadata": {},
   "source": [
    "On passe maintenant au calcul de racines par la méthode de dichotomie. Pour cela, on va implémenter une fonction `Dichotomie` qui aura comme arguments d'entrée:\n",
    "\n",
    "- une fonction `F` dont on cherche une racine,\n",
    "- un scalaire `a` et un scalaire `b` pour définir l'intervalle initial,\n",
    "- un scalaire `eps` pour le critère d'arrêt (qui aura, par défaut, la valeur $10^{-10}$),\n",
    "- un entier `itermax` pour le nombre maximal d'itérations (qui aura, par défaut, la valeur $100$),\n",
    "\n",
    "et comme arguments de sortie:\n",
    "\n",
    "- un vecteur `X` qui contient la suite $(x_k)_{0\\leq j\\leq k}$ construite par la méthode et dont le dernier élément est l'approximation d'une racine de `F`,\n",
    "- un entier `k` correspondant au nombre total d'itérations réalisées.\n",
    "\n",
    "> **À faire **: Implémenter la méthode de la dichotomie. Tester celle-ci sur la fonction $F$ avec comme intervalle initial $[-10,10]$ puis calculer la plus grande racine de $F$ sur l'intervalle $[-10,10]$ à une précision de $10^{-12}$."
   ]
  },
  {
   "cell_type": "code",
   "execution_count": 5,
   "metadata": {
    "collapsed": false
   },
   "outputs": [
    {
     "data": {
      "text/plain": [
       "([0.0,\n",
       "  5.0,\n",
       "  2.5,\n",
       "  3.75,\n",
       "  3.125,\n",
       "  2.8125,\n",
       "  2.65625,\n",
       "  2.734375,\n",
       "  2.6953125,\n",
       "  2.71484375,\n",
       "  2.705078125,\n",
       "  2.7001953125,\n",
       "  2.69775390625,\n",
       "  2.698974609375,\n",
       "  2.6995849609375,\n",
       "  2.69927978515625,\n",
       "  2.699127197265625,\n",
       "  2.6992034912109375,\n",
       "  2.6992416381835938,\n",
       "  2.699260711669922,\n",
       "  2.699270248413086,\n",
       "  2.699275016784668,\n",
       "  2.699277400970459,\n",
       "  2.6992762088775635,\n",
       "  2.6992756128311157,\n",
       "  2.699275314807892,\n",
       "  2.699275463819504,\n",
       "  2.699275389313698,\n",
       "  2.699275426566601,\n",
       "  2.6992754451930523,\n",
       "  2.699275454506278,\n",
       "  2.699275459162891,\n",
       "  2.6992754614911973,\n",
       "  2.6992754626553506,\n",
       "  2.699275462073274,\n",
       "  2.6992754617822357],\n",
       " 36)"
      ]
     },
     "execution_count": 5,
     "metadata": {},
     "output_type": "execute_result"
    }
   ],
   "source": [
    "def Dichotomie(F, a, b, eps = 1e-10, itermax = 100):\n",
    "    x=(a+b)/2\n",
    "    if itermax == 1 or np.abs(F((a+b)/2)) < eps: \n",
    "        return [x], 1\n",
    "    else:\n",
    "        if F(x) > 0:\n",
    "            a,b = a,(a+b)/2\n",
    "        else:\n",
    "            a,b = (a+b)/2,b\n",
    "        z,k = Dichotomie(F, a, b, eps, itermax-1)\n",
    "        return [x] + z, k+1\n",
    "\n",
    "Dichotomie(F, -10, 10)"
   ]
  },
  {
   "cell_type": "markdown",
   "metadata": {},
   "source": [
    "## Méthode du point fixe"
   ]
  },
  {
   "cell_type": "markdown",
   "metadata": {},
   "source": [
    "À présent, on va implémenter la méthode du point fixe. On implémentera pour cela une fonction `Point_fixe` qui aura comme arguments d'entrée:\n",
    "- une fonction `F` dont on cherche une racine,\n",
    "- une fonction `Fp` correspondant à la dérivée de `F`,\n",
    "- un scalaire `x_0` correspondant à la valeur initial de la méthode,\n",
    "- un scalaire `a` et un scalaire `b` pour définir l'intervalle où évaluer la dérivée,\n",
    "- un scalaire `eps` pour le critère d'arrêt (qui aura, par défaut, la valeur $10^{-10}$),\n",
    "- un entier `itermax` pour le nombre maximal d'itérations (qui aura, par défaut, la valeur $100$),\n",
    "\n",
    "et comme arguments de sortie:\n",
    "\n",
    "- un vecteur `X` qui contient la suite $(x_k)_{0\\leq j\\leq k}$ construite par la méthode et dont le dernier élément est l'approximation d'une racine de `F`,\n",
    "- un entier `k` correspondant au nombre total d'itérations réalisées.\n",
    "\n",
    "> **À faire **: Calculer la dérivée de la fonction $F$ et implémenter sous une fonction `Fp`. Puis implémenter la méthode du point fixe. Cette méthode peut s'écrire sous la forme suivante\n",
    "$$\n",
    "\\left\\{\\begin{array}{ll}\n",
    "x_0\\in I = [a,b]\\textrm{ tel que la racine recherchée est dans $I$ et $F$ est monotone sur $I$},\\\\\n",
    "M = \\left\\{\\begin{array}{ll}\\sup_{y\\in I} F'(y),\\textrm{ si $F$ est croissante sur $I$}\\\\\\\\inf_{y\\in I} F'(y),\\textrm{ si $F$ est décroissante sur $I$}\n",
    "\\end{array}\\right.\\\\\n",
    "x_{k+1} = x_k - \\frac{F(x_k)}{M},\\quad k\\geq 0.\n",
    "\\end{array}\\right.\n",
    "$$"
   ]
  },
  {
   "cell_type": "code",
   "execution_count": 7,
   "metadata": {
    "collapsed": true
   },
   "outputs": [
    {
     "data": {
      "text/plain": [
       "([1.4565732668036875,\n",
       "  2.351598899553091,\n",
       "  2.6336616295668587,\n",
       "  2.688500056282112,\n",
       "  2.6975544847705875,\n",
       "  2.699001866796287,\n",
       "  2.699231998807407,\n",
       "  2.6992685581606186,\n",
       "  2.6992743652800857,\n",
       "  2.6992752876680135,\n",
       "  2.699275434177237,\n",
       "  2.6992754574482927,\n",
       "  2.6992754611445924,\n",
       "  2.6992754617317005,\n",
       "  2.699275461824955,\n",
       "  2.699275461824955],\n",
       " 16)"
      ]
     },
     "execution_count": 7,
     "metadata": {},
     "output_type": "execute_result"
    }
   ],
   "source": [
    "def Fp(x):\n",
    "    return x/5 + np.exp(-x/4)/4 + 1/2 * np.sin(x/2)\n",
    "\n",
    "def Point_fixe(F, Fp, x_0, a, b, eps = 1e-10, itermax = 100):\n",
    "    if itermax == 1 or np.abs(F(x_0)) < eps: \n",
    "        return [x_0], 1\n",
    "    else:\n",
    "        x = x_0 - F(x_0)/max(Fp(np.linspace(a,b,100)))\n",
    "        z,k = Point_fixe(F, Fp, x, a, b, eps, itermax-1)\n",
    "        return [x] + z, k+1\n",
    "\n",
    "Point_fixe(F, Fp, 0, 0, 5)"
   ]
  },
  {
   "cell_type": "markdown",
   "metadata": {},
   "source": [
    "> **À faire **:  Ensuite, tester la méthode du point fixe sur la fonction $F$ avec comme valeur initiale $0$ et sur l'intervalle $[0,5]$."
   ]
  },
  {
   "cell_type": "code",
   "execution_count": null,
   "metadata": {
    "collapsed": true
   },
   "outputs": [],
   "source": []
  },
  {
   "cell_type": "markdown",
   "metadata": {},
   "source": [
    "## Méthode de Newton"
   ]
  },
  {
   "cell_type": "markdown",
   "metadata": {},
   "source": [
    "On passe enfin à la méthode de Newton. On implémentera pour cela une fonction `Newton` qui aura comme arguments d'entrée:\n",
    "- une fonction `F` dont on cherche une racine,\n",
    "- une fonction `Fp` qui correspond à la dérivée de `F`,\n",
    "- un scalaire `x_0` correspondant à la valeur initial de la méthode,\n",
    "- un scalaire `eps` pour le critère d'arrêt (qui aura, par défaut, la valeur $10^{-10}$),\n",
    "- un entier `itermax` pour le nombre maximal d'itérations (qui aura, par défaut, la valeur $100$),\n",
    "\n",
    "et comme arguments de sortie:\n",
    "\n",
    "- un vecteur `X` qui contient la suite $(x_k)_{0\\leq j\\leq k}$ construite par la méthode et dont le dernier élément est l'approximation d'une racine de `F`,\n",
    "- un entier `k` correspondant au nombre total d'itérations réalisées.\n",
    "\n",
    "> **À faire **: Implémenter la méthode de Newton. Tester cette dernière avec comme condition initiale $x_0 = -3$."
   ]
  },
  {
   "cell_type": "code",
   "execution_count": 40,
   "metadata": {
    "collapsed": true
   },
   "outputs": [
    {
     "data": {
      "text/plain": [
       "([0,\n",
       "  8.0,\n",
       "  2.4893031409566584,\n",
       "  2.7040360388114535,\n",
       "  2.6992776442489648,\n",
       "  2.699275461843024],\n",
       " 6)"
      ]
     },
     "execution_count": 40,
     "metadata": {},
     "output_type": "execute_result"
    }
   ],
   "source": [
    "def Newton(F, Fp, x_0, eps = 1e-10, itermax = 100):\n",
    "    if itermax == 1 or np.abs(F(x_0)) < eps: \n",
    "        return [x_0], 1\n",
    "    else:\n",
    "        x = x_0 - F(x_0)/Fp(x_0)\n",
    "        z,k = Newton(F, Fp, x, eps, itermax-1)\n",
    "        return [x_0] + z, k+1\n",
    "\n",
    "Newton(F, Fp, 0)"
   ]
  },
  {
   "cell_type": "markdown",
   "metadata": {},
   "source": [
    "## Comparaison des méthodes"
   ]
  },
  {
   "cell_type": "markdown",
   "metadata": {},
   "source": [
    "Dans cette dernière section, on va comparer les méthodes et notamment la vitesse de convergence de celle-ci. Tout d'abord, on va calculer chacune des racines de $F$ avec une précision de $10^{-15}$ à l'aide de la méthode de votre choix. On note $x^*_i$ la $i$-ème racine de $F$ obtenue de cette manière. Ensuite, on va tracer l'évolution, pour chaque méthode et pour chaque racine de $F$, de l'erreur:\n",
    "\n",
    "$$\n",
    "e_n^{(k)} = \\log_{10} (|x_n-x_k^*|),\n",
    "$$\n",
    "pour $n$ allant de $0$ jusqu'au nombre total d'itérations de chaque méthode. \n",
    "\n",
    "\n",
    "> **À faire **: Tracer, pour chaque racine, l'évolution de $e_n^{(k)}$ pour chaque méthode sur un même graphique. Les conditions initiales seront $x_0 = -7, -5$ et $2$. Pour la méthode de la dichotomie, on commencera avec un intervalle de taille $1$ tel que $a$ ou $b$ est égal à $x_0$. L'évaluation du paramètre $M$ pour la méthode du point fixe se fera sur le même intervalle que l'intervalle de départ de la dichotomie. Le paramètre `eps` sera fixé à $10^{-12}$. Commenter le résultat."
   ]
  },
  {
   "cell_type": "code",
   "execution_count": 55,
   "metadata": {
    "collapsed": false
   },
   "outputs": [
    {
     "name": "stdout",
     "output_type": "stream",
     "text": [
      "2.6992754618425643\n"
     ]
    },
    {
     "data": {
      "text/plain": [
       "[<matplotlib.lines.Line2D at 0x7fcd5083dc40>]"
      ]
     },
     "execution_count": 55,
     "metadata": {},
     "output_type": "execute_result"
    },
    {
     "data": {
      "image/png": "[encoded data removed]",
      "text/plain": [
       "<Figure size 432x288 with 1 Axes>"
      ]
     },
     "metadata": {
      "needs_background": "light"
     },
     "output_type": "display_data"
    }
   ],
   "source": [
    "# calcul des racines de F\n",
    "x_test = Newton(F, Fp, 0, eps=10e-15)[0][-1]\n",
    "print(x_test)\n",
    "e1_newton= np.log10(np.abs(Newton(F, Fp, 0, eps=10e-15)[0] - x_test + 10e-15))\n",
    "e1_pf= np.log10(np.abs(Point_fixe(F, Fp, 0, 0, 5, eps=10e-15)[0] - x_test))\n",
    "e1_dichotomie= np.log10(np.abs(Dichotomie(F, 0, 5, eps=10e-15)[0] - x_test))\n",
    "\n",
    "plt.plot(e1_newton)\n",
    "plt.plot(e1_dichotomie)\n",
    "plt.plot(e1_pf)\n"
   ]
  }
 ],
 "metadata": {
  "kernelspec": {
   "display_name": "Python 3.8.10 64-bit",
   "language": "python",
   "name": "python3"
  },
  "language_info": {
   "codemirror_mode": {
    "name": "ipython",
    "version": 2
   },
   "file_extension": ".py",
   "mimetype": "text/x-python",
   "name": "python",
   "nbconvert_exporter": "python",
   "pygments_lexer": "ipython2",
   "version": "3.8.10"
  },
  "vscode": {
   "interpreter": {
    "hash": "916dbcbb3f70747c44a77c7bcd40155683ae19c65e1c03b4aa3499c5328201f1"
   }
  }
 },
 "nbformat": 4,
 "nbformat_minor": 0
}
