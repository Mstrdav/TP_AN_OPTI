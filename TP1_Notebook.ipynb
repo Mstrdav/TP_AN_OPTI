{
 "cells": [
  {
   "cell_type": "markdown",
   "metadata": {},
   "source": [
    "# Erreurs et stabilité"
   ]
  },
  {
   "cell_type": "markdown",
   "metadata": {},
   "source": [
    "## Importation de packages pour Python"
   ]
  },
  {
   "cell_type": "markdown",
   "metadata": {},
   "source": [
    "On commence par importer les packages mathématiques de Python suivant: Math, Numpy et Matplotlib."
   ]
  },
  {
   "cell_type": "code",
   "execution_count": 1,
   "metadata": {
    "collapsed": false
   },
   "outputs": [],
   "source": [
    "%matplotlib inline\n",
    "import matplotlib.pyplot as plt\n",
    "import numpy as np\n",
    "import math"
   ]
  },
  {
   "cell_type": "markdown",
   "metadata": {},
   "source": [
    "## Première partie : Erreurs d'arrondi"
   ]
  },
  {
   "cell_type": "markdown",
   "metadata": {},
   "source": [
    "### Calcul de l'erreur d'arrondi de Python"
   ]
  },
  {
   "cell_type": "markdown",
   "metadata": {},
   "source": [
    "Conformément au cours, on appelle unité d'arrondi le nombre $u$ égale à la moitié de l'écart\n",
    "entre 1 et le plus petit nombre plus grand que $1$ représenté dans l'arithmétique utilisée. Nous\n",
    "allons calculer les unités d'arrondi du logiciel Python, sachant que la base utilisée pour la\n",
    "représentation des nombres est la base 2, on calculera l'unité d'arrondi au moyen de la boucle\n",
    "suivante\n",
    "```python\n",
    "x = 1\n",
    "y = 1 + x\n",
    "compteur=0\n",
    "Tant que y != 1\n",
    "    x = x/2\n",
    "    y = 1 + x\n",
    "    compteur=compteur+1\n",
    "Fin\n",
    "imprimer(x,compteur)\n",
    "```\n",
    "\n",
    ">**A faire :** Implémenter cette boucle dans la boucle de code du dessous et calculer l'erreur d'arrondi de Python."
   ]
  },
  {
   "cell_type": "code",
   "execution_count": 2,
   "metadata": {
    "collapsed": false
   },
   "outputs": [
    {
     "name": "stdout",
     "output_type": "stream",
     "text": [
      "1.1102230246251565e-16 53\n"
     ]
    }
   ],
   "source": [
    "x = 1\n",
    "y = 1 + x\n",
    "compteur = 0\n",
    "\n",
    "while y!=1:\n",
    "    x = x/2\n",
    "    y = 1+x;\n",
    "    compteur+=1\n",
    "\n",
    "print(x, compteur)\n"
   ]
  },
  {
   "cell_type": "markdown",
   "metadata": {},
   "source": [
    "Vous devez trouver un résultat cohérent avec le codage 64 bits des nombres en virgule flottante. Le premier bit est le signe du nombre, les 11 bits suivants sont la puissance (la place de la virgule) et les 52 derniers sont la précision.  "
   ]
  },
  {
   "cell_type": "markdown",
   "metadata": {},
   "source": [
    "### Modification de l'erreur d'arrondi de Python"
   ]
  },
  {
   "cell_type": "markdown",
   "metadata": {},
   "source": [
    "Nous voulons maintenant forcer l'ordinateur à effectuer des calculs avec moins de chiffre\n",
    "de mantisse. Nous allons pour cela utiliser la fonction $(a , b) =\\textrm{np.frexp}(x)$ qui rend $a\\in[0,5; 1[$ et\n",
    "$b\\in\\mathbb{Z}$ tels que $x = a \\times 2^{b}$.\n",
    "Le nombre de chiffres significatifs de $x$ correspond donc au nombre de chiffres significatifs de $a$. En notant $E$ la fonction partie entière et $c = 2^{-n}E(a\\times 2^{n})$, le\n",
    "nombre $c$ est égal au nombre $a$ à $n$ chiffres significatifs près (en base $2$).\n",
    "Ainsi $\\tilde{x} = c \\times 2^{b}$ est égal à $x$ à $n$ chiffres significatifs près (en base $2$).\n",
    "\n",
    ">**A faire :** Implémenter la fonction $\\textrm{arrondi}(x)$ qui rend $\\tilde{x}$, une valeur approchée de $x$ à $30$ chiffres significatifs près (en base $2$). Pour pouvoir utiliser la fonction arrondi dans le reste du TP, on fera attention au fait que $x$ puisse être un tableau de numpy. Poser x=[0.1,1] et calculer l'erreur entre x et arrondi(x). "
   ]
  },
  {
   "cell_type": "code",
   "execution_count": 3,
   "metadata": {
    "collapsed": false
   },
   "outputs": [
    {
     "name": "stdout",
     "output_type": "stream",
     "text": [
      "[2.32830699e-11 0.00000000e+00]\n"
     ]
    }
   ],
   "source": [
    "def arrondi(x):\n",
    "    (a,b) = np.frexp(x)\n",
    "    c = 2**-30*np.floor(a*2**30)\n",
    "    return c*np.power(2.,b)\n",
    "\n",
    "x=np.array([0.1,1])\n",
    "print(x-arrondi(x))\n"
   ]
  },
  {
   "cell_type": "markdown",
   "metadata": {},
   "source": [
    ">**A faire :** Reprendre la boucle précédente (où vous avez calculé l'erreur d'arrondi de Python) et calculer la nouvelle erreur d'arrondi. Vous devez trouver 30 !!"
   ]
  },
  {
   "cell_type": "code",
   "execution_count": 4,
   "metadata": {
    "collapsed": false
   },
   "outputs": [
    {
     "name": "stdout",
     "output_type": "stream",
     "text": [
      "9.313225746154785e-10 30\n"
     ]
    }
   ],
   "source": [
    "x = 1\n",
    "y = arrondi(1+x)\n",
    "compteur = 0\n",
    "\n",
    "while y!=1:\n",
    "    x = x/2\n",
    "    y = arrondi(1+x);\n",
    "    compteur+=1\n",
    "\n",
    "print(x, compteur)\n"
   ]
  },
  {
   "cell_type": "markdown",
   "metadata": {},
   "source": [
    "### Calculs de dérivées numériques"
   ]
  },
  {
   "cell_type": "markdown",
   "metadata": {},
   "source": [
    "On peut calculer une dérivée de façon approchée en utilisant la formule \n",
    "\n",
    "\\begin{equation*}\n",
    "D_h(x) = \\frac{f(x+h)-f(x)}{h} = f'(x) + f''(\\eta)\\frac h 2. \\quad\\quad\\quad (1.1)\n",
    "\\end{equation*}\n",
    "\n",
    "Les $D_h(x)$ fournissent une approximation de $f'(x)$ dont la qualité augmente *a priori* lorsque $h$ décroît.\n",
    "\n",
    ">**A faire :** Créer une fonction python ```calculderivee()``` qui calcule les valeurs approchées de la dérivée de la fonction $f(x) = \\sin(3x)$ au point $x=1$ avec les pas $h_k = 10^{-k}$, $1\\leq k\\leq 10$. Cette fonction rendra deux vecteurs [err1,err2], le vecteur err1 est le calcul de l'erreur entre la dérivée approchée et la vraie dérivée sans la fonction $\\textrm{arrondi}$ et le vecteur err2 est le calcul d'erreur avec la fonction $\\textrm{arrondi}$.\n",
    "\n",
    ">**A faire :** On affichera le log des erreurs calculées avec la librairie matplotlib."
   ]
  },
  {
   "cell_type": "code",
   "execution_count": 23,
   "metadata": {
    "collapsed": false
   },
   "outputs": [
    {
     "data": {
      "image/png": "[encoded data removed]",
      "text/plain": [
       "<Figure size 432x288 with 1 Axes>"
      ]
     },
     "metadata": {
      "needs_background": "light"
     },
     "output_type": "display_data"
    }
   ],
   "source": [
    "def calculderivee_pas(f,x,h):\n",
    "    return (f(x+h)-f(x))/h\n",
    "\n",
    "def calculderivee_pas_arrondi(f,x,h):\n",
    "    return (arrondi(arrondi(f(arrondi(x+h)))-arrondi(f(x))))/h\n",
    "\n",
    "def calculderivee():\n",
    "    sin3x = lambda x: np.sin(3*x)\n",
    "    x = 1\n",
    "    k = np.linspace(1,16,16)\n",
    "    h = np.power(0.1,k)\n",
    "    err1 = np.abs(np.array([3*np.cos(3*x) - calculderivee_pas(sin3x,x,hi) for hi in h]))\n",
    "    err2 = np.abs(np.array([3*np.cos(3*x) - calculderivee_pas_arrondi(sin3x,x,hi) for hi in h]))\n",
    "    plt.plot(k,np.log(err1),'r', label=\"erreur machine\")\n",
    "    plt.plot(k,np.log(err2),'b', label=\"erreur arrondi forcé\")\n",
    "    plt.show()\n",
    "    # return [err1, err2]\n",
    "    \n",
    "calculderivee()"
   ]
  },
  {
   "cell_type": "markdown",
   "metadata": {},
   "source": [
    "On peut interpréter le comportement des erreurs calculées en remplaçant l'estimation déduite de $(1.1)$ par:\n",
    "\n",
    "\\begin{equation*}|D_h(1)-f'(1)|\\leq \\frac h 2 |f''(\\eta)| + \\frac {2u_f}h. \\quad\\quad\\quad (1.2)\n",
    "\\end{equation*}\n",
    "\n",
    "où $u_f$ est l'erreur d'arrondi et où on approxime $|f''(\\eta)|\\approx 9\\sin(3)$.\n",
    "\n",
    ">**A faire :** Calculer les valeurs pour les différents pas du membre de droite de $(1.2)$. Afficher les courbes log du calcul de l'erreur effectué à la question précédente et de l'estimation théorique donnée par $(1.2)$. Montrez que l'estimation théorique donne un résultat honorable."
   ]
  },
  {
   "cell_type": "code",
   "execution_count": 28,
   "metadata": {
    "collapsed": false
   },
   "outputs": [
    {
     "data": {
      "image/png": "[encoded data removed]",
      "text/plain": [
       "<Figure size 432x288 with 1 Axes>"
      ]
     },
     "metadata": {
      "needs_background": "light"
     },
     "output_type": "display_data"
    }
   ],
   "source": [
    "def err_arrondi():\n",
    "    # calcul de l'erreur d'arrondis\n",
    "    x = 1\n",
    "    y = (x+1)\n",
    "    compteur = 0\n",
    "    while y != 1:\n",
    "        compteur += 1\n",
    "        x = x/2\n",
    "        y = (x+1)\n",
    "    return x\n",
    "\n",
    "def err_arrondi_bis():\n",
    "    # calcul de l'erreur d'arrondis\n",
    "    x = 1\n",
    "    y = arrondi(x+1)\n",
    "    compteur = 0\n",
    "    while y != 1:\n",
    "        compteur += 1\n",
    "        x = arrondi(x/2)\n",
    "        y = arrondi(x+1)\n",
    "    return x\n",
    "\n",
    "sin3x = lambda x: np.sin(3*x)\n",
    "x = 1\n",
    "k = np.linspace(1,12,12)\n",
    "h = np.power(.1,k)\n",
    "errth1 = np.array([9*sin3x(x)*hi/2 + 2*err_arrondi()/hi for hi in h])\n",
    "errth2 = np.array([9*sin3x(x)*hi/2 + 2*err_arrondi_bis()/hi for hi in h])\n",
    "plt.plot(k,np.log(errth1),'r')\n",
    "plt.plot(k,np.log(errth2),'b')\n",
    "plt.show()\n"
   ]
  },
  {
   "cell_type": "markdown",
   "metadata": {},
   "source": [
    "## Deuxième partie : Calcul d'intégrales"
   ]
  },
  {
   "cell_type": "markdown",
   "metadata": {},
   "source": [
    "On va s'intéresser au calcul des intégrales\n",
    "\n",
    "\\begin{equation*}\n",
    "I_k = \\int_0^1 \\frac{x^k}{20+9x+x^2}dx.\n",
    "\\end{equation*}\n",
    "\n",
    "On rappelle que vous avez démontré en travaux dirigés que les $I_k$ vérifient la relation\n",
    "\n",
    "\\begin{equation*}\n",
    "I_{k+1} = \\frac 1 k - 9I_k-20 I_{k-1}. \\quad\\quad\\quad (1.3)\n",
    "\\end{equation*}\n",
    "\n",
    "Vous avez également établi que, pour $k\\geq 2$, on a\n",
    "\n",
    "\\begin{equation*}\n",
    "\\frac{1}{30(k+1)} \\leq I_k \\leq \\frac{1}{20(k+1)}. \\quad\\quad\\quad (1.4)\n",
    "\\end{equation*}\n",
    "\n",
    "**A faire :**\n",
    "1. Calculer les $I_k$ pour $0\\leq k \\leq 10$, en utilisant la relation $(1.3)$ initialisée par:\n",
    "\\begin{equation*}\n",
    "\\left\\{\\begin{array}{ll}\n",
    "I_0 = \\ln(25/24),\n",
    "\\\\ I_1 = 4\\ln(4) - 9\\ln(5)+5\\ln(6).\n",
    "\\\\ \\end{array}\\right.\n",
    "\\end{equation*}\n",
    "2. Calculer $I_{30}$. Vérifiez-vous les bornes $(1.4)$ ?\n",
    "\n",
    "\n"
   ]
  },
  {
   "cell_type": "code",
   "execution_count": 8,
   "metadata": {
    "collapsed": false
   },
   "outputs": [
    {
     "name": "stdout",
     "output_type": "stream",
     "text": [
      "153121.0312276393\n"
     ]
    }
   ],
   "source": [
    "def IntegralCalcUp(k):\n",
    "    I = np.array([None]*k);\n",
    "    I[0] = np.log(25/24)\n",
    "    I[1] = 4*np.log(4) - 9*np.log(5) + 5*np.log(6)\n",
    "    for i in range(2,k):\n",
    "        I[i] = 1/i -9*I[i-1] -20*I[i-2];\n",
    "        # print(i, I[i])\n",
    "\n",
    "    return(I[k-1])\n",
    "\n",
    "print(IntegralCalcUp(10))\n"
   ]
  },
  {
   "cell_type": "markdown",
   "metadata": {},
   "source": [
    "On inverse la relation de récurrence $(1.3)$ pour écrire la relation\n",
    "\n",
    "\\begin{equation*}\n",
    "I_{k-1} = \\frac{1}{20k} - \\frac 9 {20} I_k - \\frac 1 {20} I_{k+1}\n",
    "\\end{equation*}\n",
    "> **A faire :** Ecrire un programme $\\textrm{IntegralCalcDown(k,m)}$ avec $k\\le m-1$ implémentant la nouvelle relation de récurrence en partant de $I_m=\\frac{1}{20(m+1)}$ et $I_{m-1}=\\frac{1}{20(m)}$ qui calcule $I_k$."
   ]
  },
  {
   "cell_type": "code",
   "execution_count": 15,
   "metadata": {
    "collapsed": false
   },
   "outputs": [
    {
     "name": "stdout",
     "output_type": "stream",
     "text": [
      "-542236450.2427862\n",
      "0.04082199458474984\n",
      "0.04082199452025513\n"
     ]
    }
   ],
   "source": [
    "def IntegralCalcDown(k,m):\n",
    "    I = np.array([None] * (m-k));\n",
    "    I[0] = 1/(20*(m+1))\n",
    "    I[1] = 1/(20*m)\n",
    "    for i in range(2,m-k):\n",
    "        I[i] = 1/(20*(m-k-i)) - 9/20*I[i-1] -1/20*I[i-2];\n",
    "\n",
    "    return(I[m-k-1])\n",
    "    \n",
    "print(IntegralCalcUp(15))\n",
    "print(IntegralCalcDown(15,30))\n",
    "print(IntegralCalcDown(15,1000))\n",
    "\n",
    "\n"
   ]
  },
  {
   "cell_type": "markdown",
   "metadata": {},
   "source": [
    "Comparer la valeur de $\\textrm{IntegralCalcDown(0,100)}$ et la valeur donnée de $I_0$"
   ]
  },
  {
   "cell_type": "code",
   "execution_count": 16,
   "metadata": {
    "collapsed": false
   },
   "outputs": [
    {
     "name": "stdout",
     "output_type": "stream",
     "text": [
      "0.04082199452025513\n",
      "0.0408219945202552\n"
     ]
    }
   ],
   "source": [
    "print(IntegralCalcDown(0,100))\n",
    "print(np.log(25/24))"
   ]
  },
  {
   "cell_type": "code",
   "execution_count": null,
   "metadata": {
    "collapsed": false
   },
   "outputs": [],
   "source": []
  }
 ],
 "metadata": {
  "kernelspec": {
   "display_name": "Python 3.8.10 64-bit",
   "language": "python",
   "name": "python3"
  },
  "language_info": {
   "codemirror_mode": {
    "name": "ipython",
    "version": 3
   },
   "file_extension": ".py",
   "mimetype": "text/x-python",
   "name": "python",
   "nbconvert_exporter": "python",
   "pygments_lexer": "ipython3",
   "version": "3.8.10"
  },
  "vscode": {
   "interpreter": {
    "hash": "916dbcbb3f70747c44a77c7bcd40155683ae19c65e1c03b4aa3499c5328201f1"
   }
  }
 },
 "nbformat": 4,
 "nbformat_minor": 0
}
