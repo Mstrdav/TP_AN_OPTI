{
 "cells": [
  {
   "cell_type": "markdown",
   "metadata": {},
   "source": [
    "TP6 -Algorithmes pour la résolution de problèmes de moindres carrés\n",
    "===================================="
   ]
  },
  {
   "cell_type": "code",
   "execution_count": 1,
   "metadata": {},
   "outputs": [],
   "source": [
    "import matplotlib.pyplot as plt\n",
    "import numpy as np\n",
    "import numpy.linalg as npl\n",
    "import math\n",
    "import scipy.io"
   ]
  },
  {
   "cell_type": "markdown",
   "metadata": {},
   "source": [
    "1. Problèmes de moindres carrés linéaires\n",
    "------------------------------------------"
   ]
  },
  {
   "cell_type": "markdown",
   "metadata": {},
   "source": [
    "Soient $(x_i,y_i)$, $i=1,\\dots,n$ un nuage donné de points. On cherche la relation existant entre les valeurs $x_i$ et les valeurs $y_i$. Pour illustrer cet exercice on introduit deux jeux de données:\n",
    "* Jeu A. On possède $6$ spécimens fossiles d'un animal disparu et ces spécimens sont de tailles différentes. On estime que si ces animaux appartiennent à la même espèce, il doit exister une relation linéaire entre la longueur de deux de leurs os: le fémur et l'humérus. Voici les données de ces longueurs en cm pour les $5$ spécimens possédant ces deux os intacts:"
   ]
  },
  {
   "cell_type": "code",
   "execution_count": 2,
   "metadata": {},
   "outputs": [],
   "source": [
    "# Longueur du fémur\n",
    "xA = np.array([38,56,59,64,74])\n",
    "# Longueur de l'humérus\n",
    "yA = np.array([41,63,70,72,84])"
   ]
  },
  {
   "cell_type": "markdown",
   "metadata": {},
   "source": [
    "* Jeu B. On cherche une relation entre les données suivantes:"
   ]
  },
  {
   "cell_type": "code",
   "execution_count": 3,
   "metadata": {},
   "outputs": [],
   "source": [
    "xB = np.array([0,1,2,3,4,5,6])\n",
    "yB = np.array([-5.3,0.4,2.6,4.3,3,0.5,-5.4])"
   ]
  },
  {
   "cell_type": "markdown",
   "metadata": {},
   "source": [
    "### A. Régression linéaire\n",
    "\n",
    "Supposons pour commencer qu'il existe une relation linéaire entre nos données: \n",
    "$$y=ax+b.$$\n",
    "1. Montrer que le problème ci-dessus s'écrit sous la forme d'un pb d'un problème de moindres carrés linéaires:\n",
    "$$(P) \\qquad\\displaystyle \\min_{(a,b)\\in\\mathbb{R}} \\frac{1}{2}\\|A\\left(\\begin{array}{c}\n",
    "a\\\\ b\n",
    "\\end{array}\\right)-y\\|_2^2.$$\n",
    "\n",
    "2. Montrer que le problème $(P)$ admet un unique point de minimum global $(\\bar a,\\bar b)$ sur $\\mathbb{R}^2$ et caractériser ce point (*On pourra montrer que la solution $(a,b)$ est solution d'un système linéaire que l'on explicitera*).\n",
    "\n",
    "3. Programmer la résolution numérique de ce problème pour les jeux $A$ et $B$. Commentez."
   ]
  },
  {
   "cell_type": "code",
   "execution_count": 4,
   "metadata": {},
   "outputs": [],
   "source": [
    "def regressionlineaire(x,y):\n",
    "    # Calcul de la moyenne des abscisses\n",
    "    xMoy = np.mean(x)\n",
    "    # Calcul de la moyenne des ordonnées\n",
    "    yMoy = np.mean(y)\n",
    "    # Calcul de la pente de la droite\n",
    "    a = np.sum((x-xMoy)*(y-yMoy))/np.sum((x-xMoy)**2)\n",
    "    # Calcul de l'ordonnée à l'origine\n",
    "    b = yMoy-a*xMoy\n",
    "    return a,b"
   ]
  },
  {
   "cell_type": "code",
   "execution_count": 5,
   "metadata": {},
   "outputs": [
    {
     "data": {
      "image/png": "[encoded data removed]",
      "text/plain": [
       "<Figure size 432x288 with 1 Axes>"
      ]
     },
     "metadata": {
      "needs_background": "light"
     },
     "output_type": "display_data"
    }
   ],
   "source": [
    "#Affichage des points de mesure\n",
    "# x=xA\n",
    "# y=yA\n",
    "x=xB\n",
    "y=yB\n",
    "plt.scatter(x,y,marker='x')\n",
    "plt.show()"
   ]
  },
  {
   "cell_type": "code",
   "execution_count": 6,
   "metadata": {},
   "outputs": [
    {
     "data": {
      "image/png": "[encoded data removed]",
      "text/plain": [
       "<Figure size 432x288 with 1 Axes>"
      ]
     },
     "metadata": {
      "needs_background": "light"
     },
     "output_type": "display_data"
    }
   ],
   "source": [
    "[a,b]=regressionlineaire(x,y)\n",
    "n=len(x)\n",
    "xx =np.arange(x[0],x[n-1],0.01)\n",
    "plt.plot(xx,a*xx+b,'r')\n",
    "plt.scatter(x,y,marker='x')\n",
    "plt.show()"
   ]
  },
  {
   "cell_type": "markdown",
   "metadata": {},
   "source": [
    "### B. Améliorons le modèle mathématique\n",
    "\n",
    "Au vu des résultats précédents pour le jeu $B$, on estime que la relation entre les données $x_i$ et $y_i$, $i=1,\\dots,7$ est de la forme: \n",
    "$$y=ax^2+bx+c$$ \n",
    "1. Re-formuler le problème sous la forme d'un problème de moindres carrés linéaires.\n",
    "2. Montrer que la solution $(a,b,c)$ est solution d'un système linéaire que l'on explicitera.\n",
    "3. Applications: programmer la résolution numérique de ce problème pour les jeux $A$ et $B$. Commentez."
   ]
  },
  {
   "cell_type": "code",
   "execution_count": 25,
   "metadata": {},
   "outputs": [],
   "source": [
    "def parabole(x, y):\n",
    "    # parabole des moindres carrés\n",
    "    # x : abscisses\n",
    "    # y : ordonnées\n",
    "    # a,b,c : coefficients de la parabole\n",
    "    # y = a*x**2 + b*x + c\n",
    "\n",
    "    # Somme des carrés à minimiser :\n",
    "    # S = sum((y - a*x**2 - b*x - c)**2)\n",
    "\n",
    "    # Dérivée de S par rapport à a :\n",
    "    # dS/da = sum(-2*x**2*(y - a*x**2 - b*x - c))\n",
    "\n",
    "    # Dérivée de S par rapport à b :\n",
    "    # dS/db = sum(-2*x*(y - a*x**2 - b*x - c))\n",
    "\n",
    "    # Dérivée de S par rapport à c :\n",
    "    # dS/dc = sum(-2*(y - a*x**2 - b*x - c))\n",
    "\n",
    "    # Les dérivées sont nulles pour les minimums locaux :\n",
    "    # dS/da = 0\n",
    "    # dS/db = 0\n",
    "    # dS/dc = 0\n",
    "\n",
    "    # On obtient donc :\n",
    "    # sum(-2*x**2*(y - a*x**2 - b*x - c)) = 0\n",
    "    # sum(-2*x*(y - a*x**2 - b*x - c)) = 0\n",
    "    # sum(-2*(y - a*x**2 - b*x - c)) = 0\n",
    "\n",
    "    # Soit :\n",
    "    # sum(x**2*y) = a*sum(x**4) + b*sum(x**3) + c*sum(x**2)\n",
    "    # sum(x*y) = a*sum(x**3) + b*sum(x**2) + c*sum(x)\n",
    "    # sum(y) = a*sum(x**2) + b*sum(x) + c*sum(1)\n",
    "\n",
    "    # Qui est un système linéaire à résoudre :\n",
    "    # A.a = B\n",
    "\n",
    "    n = len(x)\n",
    "    Sx = np.sum(x)\n",
    "    Sxx = np.sum(np.power(x, 2))\n",
    "    Sxxx = np.sum(np.power(x, 3))\n",
    "    Sxxxx = np.sum(np.power(x, 4))\n",
    "\n",
    "    Sy = np.sum(y)\n",
    "    Sxy = np.sum(x * y)\n",
    "    Sxxy = np.sum(np.power(x, 2) * y)\n",
    "\n",
    "\n",
    "    A = np.array([np.flip([n, Sx, Sxx]), np.flip([Sx, Sxx, Sxxx]), np.flip([Sxx, Sxxx, Sxxxx])])\n",
    "    B = np.array([Sy, Sxy, Sxxy])\n",
    "    a = npl.solve(A, B)\n",
    "\n",
    "    print(\"a = \", a)\n",
    "\n",
    "    return a\n"
   ]
  },
  {
   "cell_type": "code",
   "execution_count": 26,
   "metadata": {},
   "outputs": [
    {
     "name": "stdout",
     "output_type": "stream",
     "text": [
      "a =  [-1.04166667  6.26071429 -5.22619048]\n"
     ]
    },
    {
     "data": {
      "image/png": "[encoded data removed]",
      "text/plain": [
       "<Figure size 432x288 with 1 Axes>"
      ]
     },
     "metadata": {
      "needs_background": "light"
     },
     "output_type": "display_data"
    }
   ],
   "source": [
    "[a,b,c]=parabole(xB,yB)\n",
    "n=len(xB)\n",
    "xx =np.arange(xB[0],xB[n-1],0.01)\n",
    "plt.plot(xx,a*(xx**2)+b*xx+c,'r')\n",
    "plt.scatter(xB,yB,marker='x')\n",
    "plt.show()"
   ]
  },
  {
   "cell_type": "markdown",
   "metadata": {},
   "source": [
    "2. Problèmes de moindres carrés non linéaires\n",
    "----------------------------------------------"
   ]
  },
  {
   "attachments": {
    "RLC_serie.png": {
     "image/png": "[encoded data removed]"
    }
   },
   "cell_type": "markdown",
   "metadata": {},
   "source": [
    "On considère un circuit RLC série en régime permanent (c'est-à-dire quand l'équilibre s'est installé) et en oscillations forcées (c'est-à-dire qu'on impose à ses bornes une tension sinusoidale).\n",
    "\n",
    "![RLC_serie.png](attachment:RLC_serie.png)\n",
    "\n",
    "On sait alors (grâce à la physique et en résolvant une équation différentielle linéaire du second ordre à coefficients constants) que la tension aux bornes du condensateur est de la forme:\n",
    "$$\n",
    "U(t)=U_{max} \\cos(\\omega t+\\phi)\n",
    "$$\n",
    "où $U_{max}$, $\\omega$ et $\\phi$ sont fonction des caractéristiques du circuit (résistance, inductance, condensateur, tension imposée). \n",
    "\n",
    "On mesure expérimentalement la tension aux bornes du condensateur. On note $U_n$ la tension mesurée à l'instant $t_n$ pour $n$ variant de $1$ à $N$. "
   ]
  },
  {
   "cell_type": "code",
   "execution_count": null,
   "metadata": {},
   "outputs": [],
   "source": [
    "#Generation des données\n",
    "data=scipy.io.loadmat('data.mat')\n",
    "t=data['t']\n",
    "#t=tU[:,0]\n",
    "U=data['U']\n",
    "N=len(t)"
   ]
  },
  {
   "cell_type": "code",
   "execution_count": null,
   "metadata": {},
   "outputs": [],
   "source": [
    "#Affichage des points de mesure\n",
    "plt.scatter(t, U,marker='x')\n",
    "plt.show()"
   ]
  },
  {
   "cell_type": "markdown",
   "metadata": {},
   "source": [
    "A partir de ces $N$ mesures, on souhaite connaître les caractéristiques du circuit RLC, donc les grandeurs $U_{max}$, $\\omega$ et $\\phi$. On va donc chercher les valeurs de $U_{max}$, $\\omega$ et $\\phi$ tels que $U(t_n)$ soit le plus proche possible de $U_n$ pour tout $n$."
   ]
  },
  {
   "cell_type": "markdown",
   "metadata": {},
   "source": [
    "Q1. Expliquer pourquoi le problème décrit ci-dessus se traduit mathématiquement par\n",
    "$$min\\left\\{ r(x_1,x_2,x_3)= \\frac{1}{2} \\sum_{n=1}^N \\left( x_1 \\cos(x_2 t_n+ x_3) - U_n\\right)^2 \\, , \\, (x_1,x_2,x_3)\\in \\mathbb{R}^3 \\right\\}$$\n",
    "\n",
    "Q2. Traduire ce problème de minimisation en un problème du type:\n",
    "$$min\\left\\{r(x_1,x_2,x_3)= \\frac{1}{2}\\|g(x)\\|_2^2\\right\\}.$$\n",
    "Calculer explicitement la fonction $g$ et sa matrice jacobienne. L'implémenter."
   ]
  },
  {
   "cell_type": "code",
   "execution_count": null,
   "metadata": {},
   "outputs": [],
   "source": [
    "def fct_g(x,t,U):\n",
    "    # TO DO\n",
    "    return g,Jg"
   ]
  },
  {
   "cell_type": "code",
   "execution_count": null,
   "metadata": {},
   "outputs": [],
   "source": [
    "g,Jg= fct_g(np.array([0,0,0]),t,U)\n",
    "A=np.transpose(Jg).dot(Jg)\n",
    "print(g.shape)"
   ]
  },
  {
   "cell_type": "markdown",
   "metadata": {},
   "source": [
    "Q3. Ecrire l'algorithme de Gauss-Newton pour résoudre le problème posé à la question précédente."
   ]
  },
  {
   "cell_type": "code",
   "execution_count": null,
   "metadata": {},
   "outputs": [],
   "source": [
    "def GaussNewton(function,x0,epsilon):\n",
    "    x = np.copy(x0)\n",
    "    y=[x]\n",
    "    eps = 1e-10\n",
    "    itermax = 1000\n",
    "    err = 2*eps\n",
    "    iter = 0\n",
    "    while err>eps and iter<itermax:  \n",
    "        #TO DO\n",
    "        iter += 1\n",
    "    xiter=np.array(y)\n",
    "    return x,xiter,iter"
   ]
  },
  {
   "cell_type": "code",
   "execution_count": null,
   "metadata": {},
   "outputs": [],
   "source": [
    "# Tester plusieurs points initiaux\n",
    "x0 = np.array([1,1,1])\n",
    "#x0 = np.zeros(3)\n",
    "\n",
    "epsilon=0.0001\n",
    "x,xiter,iter=GaussNewton(fct_g,x0,epsilon)\n",
    "Umax=x[0]\n",
    "omega=x[1]\n",
    "phi = x[2]\n",
    "plt.scatter(t, U,marker='x')\n",
    "tt=np.arange(0,10,0.01)\n",
    "plt.plot(tt,Umax*np.cos(omega*tt+phi),color='red')\n",
    "plt.show()\n",
    "print \"a : convergence vers \",x,\" nb iterations : \",iter"
   ]
  },
  {
   "cell_type": "markdown",
   "metadata": {},
   "source": [
    "Expliquer pourquoi, pour $x_0=(0,0,0)$ par exemple, l'algorithme ne renvoie pas le résultat attendu. A quelle propriété de l'algorithme de Gauss-Newton, cela correspond-il ?"
   ]
  },
  {
   "cell_type": "code",
   "execution_count": null,
   "metadata": {},
   "outputs": [],
   "source": []
  },
  {
   "cell_type": "code",
   "execution_count": null,
   "metadata": {},
   "outputs": [],
   "source": []
  },
  {
   "cell_type": "code",
   "execution_count": null,
   "metadata": {},
   "outputs": [],
   "source": []
  }
 ],
 "metadata": {
  "kernelspec": {
   "display_name": "Python 3.9.2 64-bit",
   "language": "python",
   "name": "python3"
  },
  "language_info": {
   "codemirror_mode": {
    "name": "ipython",
    "version": 3
   },
   "file_extension": ".py",
   "mimetype": "text/x-python",
   "name": "python",
   "nbconvert_exporter": "python",
   "pygments_lexer": "ipython3",
   "version": "3.9.2"
  },
  "vscode": {
   "interpreter": {
    "hash": "916dbcbb3f70747c44a77c7bcd40155683ae19c65e1c03b4aa3499c5328201f1"
   }
  }
 },
 "nbformat": 4,
 "nbformat_minor": 2
}
