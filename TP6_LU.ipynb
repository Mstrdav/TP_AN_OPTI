{
 "cells": [
  {
   "cell_type": "markdown",
   "metadata": {},
   "source": [
    "# Factorisation LU"
   ]
  },
  {
   "cell_type": "markdown",
   "metadata": {},
   "source": [
    "Mettez ci-dessous les imports classiques de librairie Python"
   ]
  },
  {
   "cell_type": "code",
   "execution_count": 1,
   "metadata": {},
   "outputs": [],
   "source": [
    "%matplotlib inline\n",
    "import numpy as np\n",
    "import numpy.linalg as npl\n",
    "import matplotlib.pyplot as plt"
   ]
  },
  {
   "cell_type": "markdown",
   "metadata": {},
   "source": [
    "Le but de ce TP est d'implémenter la factorisation LU, avec et sans permutations, et de tester ces méthodes pour résoudre un système linéaire. Dans cette dernière partie, on implémentera un algorithme de résolution de systèmes triangulaires."
   ]
  },
  {
   "cell_type": "markdown",
   "metadata": {},
   "source": [
    "## 1) Algorithme de factorisation LU standard"
   ]
  },
  {
   "cell_type": "markdown",
   "metadata": {},
   "source": [
    "On se propose tout d'abord d'implémenter un code de factorisation LU qui prendra en entrée une matrice $A$ carré de taille quelconque et qui donnera en sortie le couple de matrice L et U correspondant à la factorisation LU de la matrice A. On rappelle que la factorisation LU s'obtient à partir de la méthode de pivot de Gauss. Plus précisément, la factorisation LU peut se résumer à l'algorithme suivant\n",
    "\n",
    "\n",
    "\n",
    "$$\n",
    "\\begin{array}{l}\n",
    "U=copy(A) \\\\\n",
    "L=0 \\\\\n",
    "\\textrm{Pour } j = 1,\\cdots,n-1: \\\\\n",
    "\\ \\left| \n",
    "\\begin{array}{l}\n",
    "\\textrm{Pour } i = j+1,\\cdots,n: \\\\\n",
    "\\ \\left| \n",
    "\\begin{array}{ll}\n",
    "\\displaystyle L[i,j]&=&\\displaystyle \\frac{U[i,j]}{U[j,j]} \\\\\n",
    "\\displaystyle U[i,:]&=&\\displaystyle U[i,:]-L[i,j]U[j,:]\n",
    "\\end{array}\n",
    "\\right.\n",
    "\\end{array}\n",
    "\\right. \\\\\n",
    "L=L+Id\n",
    "\\end{array}\n",
    "$$\n"
   ]
  },
  {
   "cell_type": "markdown",
   "metadata": {},
   "source": [
    "> **A faire :** Implémenter la fonction `LU` qui permet de calculer la factorisation LU d'une matrice $A$ carré de dimension quelconque à partir de l'algorithme précédent. On prendra soin de vérifier si le pivot est non-nul et, dans le cas contraire, on renverra une erreur à l'utilisateur. On pourra tester la fonction sur la matrice\n",
    "$$\n",
    "A = \\left(\\begin{array}{ccc}\n",
    "2 & 1 & 1 \\\\\n",
    "6 & 2 & 1 \\\\\n",
    "-2 & 2 & 1\n",
    "\\end{array}\\right),\n",
    "$$\n",
    "dont la décomposition LU est donnée par\n",
    "$$\n",
    "L = \\left(\\begin{array}{ccc}\n",
    "1 & 0 & 0 \\\\\n",
    "3 & 1 & 0 \\\\\n",
    "-1 & -3 & 1\n",
    "\\end{array}\\right)\\quad\\textrm{et}\\quad U = \\left(\\begin{array}{ccc}\n",
    "2 & 1 & 1 \\\\\n",
    "0 & -1 & -2 \\\\\n",
    "0 & 0 & -4\n",
    "\\end{array}\\right).\n",
    "$$"
   ]
  },
  {
   "cell_type": "code",
   "execution_count": 2,
   "metadata": {},
   "outputs": [],
   "source": [
    "def LU(A):\n",
    "    n = len(A)\n",
    "    L = np.eye(n)\n",
    "    U = np.zeros((n,n))\n",
    "    for k in range(n):\n",
    "        U[k,k] = A[k,k] - np.dot(L[k,:],U[:,k])\n",
    "        for i in range(k+1,n):\n",
    "            L[i,k] = (A[i,k] - np.dot(L[i,:],U[:,k]))/U[k,k]\n",
    "        for j in range(k+1,n):\n",
    "            U[k,j] = A[k,j] - np.dot(L[k,:],U[:,j])\n",
    "    return L,U"
   ]
  },
  {
   "cell_type": "code",
   "execution_count": 3,
   "metadata": {},
   "outputs": [
    {
     "name": "stdout",
     "output_type": "stream",
     "text": [
      "L= [[ 1.  0.  0.]\n",
      " [ 3.  1.  0.]\n",
      " [-1. -3.  1.]]\n",
      "U= [[ 2.  1.  1.]\n",
      " [ 0. -1. -2.]\n",
      " [ 0.  0. -4.]]\n",
      "LU= [[ 2.  1.  1.]\n",
      " [ 6.  2.  1.]\n",
      " [-2.  2.  1.]]\n"
     ]
    }
   ],
   "source": [
    "A = np.array([[2.,1,1],[6,2,1],[-2,2,1]])\n",
    "L,U = LU(A)\n",
    "print(\"L=\",L)\n",
    "print(\"U=\",U)\n",
    "print(\"LU=\",L.dot(U))"
   ]
  },
  {
   "cell_type": "markdown",
   "metadata": {},
   "source": [
    "## 2) Algorithme de factorisation LU avec stratégie de pivot partiel"
   ]
  },
  {
   "cell_type": "markdown",
   "metadata": {},
   "source": [
    "\n",
    "On passe maintenant à la factorisation LU avec la stratégie de pivot partiel. Cette méthode met en place, durant le pivot de Gauss, des permutations sur les lignes qui permettent de diminuer les erreurs numériques et de parer au problème d'un pivot nul. Ces permutations sur les lignes vont faire en sorte que le pivot dans la méthode de Gauss est toujours le plus grand possible. En pratique, à chaque étape $k$, lors du choix du pivot, on va chercher dans la colonne $k$ le plus grand pivot (en valeur absolue) puis on va procèder à une permutation entre la ligne de ce pivot et la ligne $k$. Plus précisément, la factorisation LU avec permutations peut se résumer à l'algorithme suivant\n",
    "\n",
    "$$\n",
    "\\begin{array}{l}\n",
    "U=copy(A) \\\\\n",
    "L=0 \\\\\n",
    "P=Id \\\\\n",
    "\\textrm{Pour } j = 1,\\cdots,n-1: \\\\\n",
    "\\ \\left| \n",
    "\\begin{array}{l}\n",
    "k = \\textrm{argmax}_{j\\leq m \\leq n} |U[m,j]|\\\\\n",
    "P=Permut(P,j,k) \\\\\n",
    "U=Permut(U,j,k) \\\\\n",
    "L=Permut(L,j,k) \\\\\n",
    "\\textrm{Pour } i = j+1,\\cdots,n: \\\\\n",
    "\\ \\left| \n",
    "\\begin{array}{ll}\n",
    "\\displaystyle L[i,j]&=&\\displaystyle \\frac{U[i,j]}{U[j,j]} \\\\\n",
    "\\displaystyle U[i,:]&=&\\displaystyle U[i,:]-L[i,j]U[j,:]\n",
    "\\end{array}\n",
    "\\right.\n",
    "\\end{array}\n",
    "\\right. \\\\\n",
    "L=L+Id\n",
    "\\end{array}\n",
    "$$\n",
    "\n",
    "On écrit une fonction `Permut` qui prendra en argument une matrice et le couple d'indice et donnera en sortie la matrice avec ses lignes permutées. Afin d'identifier l'indice du plus grand pivot, on pourra s'aider de la fonction `argmax`. On rappelle de plus que, pour une matrice de permutation $P$, on a\n",
    "\n",
    "$$\n",
    "P^{-1} = P^T.\n",
    "$$"
   ]
  },
  {
   "cell_type": "markdown",
   "metadata": {},
   "source": [
    "> **A faire :** Implémenter la fonction `PLU` qui permet de calculer la factorisation LU d'une matrice $A$ carré de dimension quelconque à partir de l'algorithme précédent. On prendra soin de vérifier si le pivot est non-nul et, dans le cas contraire, on renverra une erreur à l'utilisateur. On pourra tester la fonction sur la matrice\n",
    "$$\n",
    "A = \\left(\\begin{array}{ccc}\n",
    "1 & 1 & 1 & 1 \\\\\n",
    "1 & 1 & 3 & 3 \\\\\n",
    "1 & 1 & 2 & 3\\\\\n",
    "1 & 3 & 3 & 3\n",
    "\\end{array}\\right),\n",
    "$$\n",
    "dont la décomposition PLU est donnée par\n",
    "$$\n",
    "P = \\left(\\begin{array}{ccc}\n",
    "1 & 0 & 0 & 0\\\\\n",
    "0 & 0 & 0 & 1\\\\\n",
    "0 & 1 & 0 & 0\\\\\n",
    "0 & 0 & 1 & 0\n",
    "\\end{array}\\right),\\quad L = \\left(\\begin{array}{ccc}\n",
    "1 & 0 & 0 & 0\\\\\n",
    "1 & 1 & 0 & 0\\\\\n",
    "1 & 0 & 1 & 0\\\\\n",
    "1 & 0 & 1/2 & 1\n",
    "\\end{array}\\right)\\quad\\textrm{et}\\quad U = \\left(\\begin{array}{ccc}\n",
    "1 & 1 & 1 & 1\\\\\n",
    "0 & 2 & 2 & 2\\\\\n",
    "0 & 0 & 2 & 2\\\\\n",
    "0 & 0 & 0 & 1\n",
    "\\end{array}\\right).\n",
    "$$"
   ]
  },
  {
   "cell_type": "code",
   "execution_count": 5,
   "metadata": {},
   "outputs": [],
   "source": [
    "def Permut(A,i,j):\n",
    "    A[[i,j],:] = A[[j,i],:]\n",
    "    return A\n",
    "\n",
    "def PLU(A):\n",
    "    n = len(A)\n",
    "    P = np.eye(n)\n",
    "    L = np.eye(n)\n",
    "    U = np.zeros((n,n))\n",
    "    for k in range(n):\n",
    "        i = np.argmax(np.abs(A[k:,k]))+k\n",
    "        if i != k:\n",
    "            A = Permut(A,i,k)\n",
    "            P = Permut(P,i,k)\n",
    "        U[k,k] = A[k,k] - np.dot(L[k,:],U[:,k])\n",
    "        for i in range(k+1,n):\n",
    "            L[i,k] = (A[i,k] - np.dot(L[i,:],U[:,k]))/U[k,k]\n",
    "        for j in range(k+1,n):\n",
    "            U[k,j] = A[k,j] - np.dot(L[k,:],U[:,j])\n",
    "    return P,L,U"
   ]
  },
  {
   "cell_type": "code",
   "execution_count": 6,
   "metadata": {},
   "outputs": [
    {
     "name": "stdout",
     "output_type": "stream",
     "text": [
      "P= [[1. 0. 0. 0.]\n",
      " [0. 0. 0. 1.]\n",
      " [0. 1. 0. 0.]\n",
      " [0. 0. 1. 0.]]\n",
      "L= [[1.  0.  0.  0. ]\n",
      " [1.  1.  0.  0. ]\n",
      " [1.  0.  1.  0. ]\n",
      " [1.  0.  0.5 1. ]]\n",
      "U= [[1. 1. 1. 1.]\n",
      " [0. 2. 2. 2.]\n",
      " [0. 0. 2. 2.]\n",
      " [0. 0. 0. 1.]]\n",
      "0 ?? [[ 0.  0.  0.  0.]\n",
      " [ 0. -2. -1.  0.]\n",
      " [ 0.  2.  0.  0.]\n",
      " [ 0.  0.  1.  0.]]\n"
     ]
    }
   ],
   "source": [
    "A = np.array([[1.,1,1,1],[1,1,3,3],[1,1,2,3],[1,3,3,3]])\n",
    "P,L,U = PLU(A)\n",
    "print(\"P=\",P)\n",
    "print(\"L=\",L)\n",
    "print(\"U=\",U)\n",
    "print('0 ??',P@A-L@U)"
   ]
  },
  {
   "cell_type": "markdown",
   "metadata": {},
   "source": [
    "## 3) Résolution de systèmes triangulaires et comparaison des méthodes"
   ]
  },
  {
   "cell_type": "markdown",
   "metadata": {},
   "source": [
    "Nous allons à présent comparer les 2 méthodes que nous venons d'implémenter. Le but est de tester ces méthodes sur un système linéaire. Or, on sait que pour résoudre un tel système il faut passer par la résolution de systèmes triangulaires (supérieurs et inférieurs). Ainsi, avant de passer à la suite, on se propose d'implémenter une méthode permettant de résoudre un système triangulaire, qu'il soit inférieur ou supérieur.\n",
    "\n",
    "On rappelle que l'algorithme de résolution pour un système triangulaire de la forme\n",
    "\n",
    "$$\n",
    "Tx = b,\n",
    "$$\n",
    "\n",
    "s'écrit, si $T$ est triangulaire inférieure,\n",
    "\n",
    "$$\n",
    "x_1 = b_1/T_{1,1}\\\\\n",
    "\\textrm{Pour}\\; k = 2,3,\\cdots, n\\; :\n",
    "x _k = \\left(b_k - \\sum_{j = 1}^{k-1} T_{k,j} x_j\\right)/T_{k,k},\n",
    "$$\n",
    "\n",
    "et, si $T$ est triangulaire supérieure,\n",
    "\n",
    "$$\n",
    "x_n = b_n/T_{n,n}\\\\\n",
    "\\textrm{Pour}\\; k = n-1,n-2,\\cdots, 1\\; :\n",
    "x _k = \\left(b_k - \\sum_{j = k+1}^{n} T_{k,j} x_j\\right)/T_{k,k}.\n",
    "$$\n",
    "\n",
    "> **A faire :** Implémenter la fonction `Solve_Triang` qui permet de résoudre un système linéaire triangulaire (inférieur ou supérieur). Cette fonction prendra en entrée une matrice et un vecteur (correspondant aux données du système linéaire) ainsi qu'une variable précisant si le système est triangulaire supérieur ou inférieur et donnera en sortie un vecteur qui est la solution que l'on cherche."
   ]
  },
  {
   "cell_type": "code",
   "execution_count": 7,
   "metadata": {},
   "outputs": [],
   "source": [
    "def Solve_Triang(A,b,isUpper):\n",
    "    n = len(A)\n",
    "    x = np.zeros(n)\n",
    "    if isUpper:\n",
    "        for i in range(n-1,-1,-1):\n",
    "            x[i] = (b[i] - np.dot(A[i,i+1:],x[i+1:]))/A[i,i]\n",
    "    else:\n",
    "        for i in range(n):\n",
    "            x[i] = (b[i] - np.dot(A[i,:i],x[:i]))/A[i,i]\n",
    "    return x"
   ]
  },
  {
   "cell_type": "markdown",
   "metadata": {},
   "source": [
    "On a charger, en début de ce notebook, la matrice $M$ de taille 100. A l'aide des deux méthodes de factorisation et de la méthode de résolution d'un système triangulaire, vous allez résoudre le système linéaire\n",
    "\n",
    "$$\n",
    "Mx = b,\n",
    "$$\n",
    "\n",
    "où $b\\in\\mathbb{R}^{100}$ est tel que $b_i = 1$, pour tout $1\\leq i\\leq n$.\n",
    "\n",
    "> **A faire :** Résoudre le système précédent à l'aide de la factorisation LU standard et celle avec permutations. Comparer les résultats obtenus avec la solution obtenue avec `npl.solve(M,b)`. Quelle méthode donne le meilleur résultat?"
   ]
  },
  {
   "cell_type": "code",
   "execution_count": 11,
   "metadata": {},
   "outputs": [
    {
     "data": {
      "image/png": "[encoded data removed]",
      "text/plain": [
       "<Figure size 921.6x633.6 with 1 Axes>"
      ]
     },
     "metadata": {
      "needs_background": "light"
     },
     "output_type": "display_data"
    }
   ],
   "source": [
    "M = np.load('TP6_Matrice.npy').astype(float)\n",
    "n=M.shape[0]\n",
    "b=np.ones(n)\n",
    "\n",
    "def Solve_LU(A,b):\n",
    "    L,U = LU(A)\n",
    "    y = Solve_Triang(L,b,False)\n",
    "    x = Solve_Triang(U,y,True)\n",
    "    return x\n",
    "\n",
    "def Solve_PLU(A,b):\n",
    "    P,L,U = PLU(A)\n",
    "    y = Solve_Triang(L,P@b,False)\n",
    "    x = Solve_Triang(U,y,True)\n",
    "    return x\n",
    "\n",
    "x_lu = Solve_LU(M,b)\n",
    "x_plu = Solve_PLU(M,b)\n",
    "x_npl = npl.solve(M,b)\n",
    "\n",
    "plt.style.use('seaborn-poster')\n",
    "\n",
    "# plot diff with npl for both methods\n",
    "plt.plot(x_lu-x_npl,'o',label='LU')\n",
    "plt.plot(x_plu-x_npl,'o',label='PLU')\n",
    "plt.legend()\n",
    "plt.show()"
   ]
  },
  {
   "cell_type": "code",
   "execution_count": null,
   "metadata": {},
   "outputs": [],
   "source": [
    "\n"
   ]
  }
 ],
 "metadata": {
  "kernelspec": {
   "display_name": "Python 3.9.2 64-bit",
   "language": "python",
   "name": "python3"
  },
  "language_info": {
   "codemirror_mode": {
    "name": "ipython",
    "version": 3
   },
   "file_extension": ".py",
   "mimetype": "text/x-python",
   "name": "python",
   "nbconvert_exporter": "python",
   "pygments_lexer": "ipython3",
   "version": "3.9.2"
  },
  "vscode": {
   "interpreter": {
    "hash": "916dbcbb3f70747c44a77c7bcd40155683ae19c65e1c03b4aa3499c5328201f1"
   }
  }
 },
 "nbformat": 4,
 "nbformat_minor": 1
}
